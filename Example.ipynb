{
 "cells": [
  {
   "cell_type": "markdown",
   "id": "310aef47",
   "metadata": {},
   "source": [
    "## Review Feedback Agent notebook\n",
    "In this notebook, we walk you through an example of using our agent. To run this code, you will need to setup the environment and provide your own Anthropic API key. \n",
    "\n",
    "You can either select a publicly available review from OpenReview (providing the paper ID and reviewer ID) or input your own review text and paper PDF."
   ]
  },
  {
   "cell_type": "code",
   "execution_count": null,
   "id": "cd2150b1",
   "metadata": {},
   "outputs": [],
   "source": [
    "%load_ext autoreload\n",
    "%autoreload 2"
   ]
  },
  {
   "cell_type": "code",
   "execution_count": null,
   "id": "67315556-c280-4078-8542-a2a104d85cb7",
   "metadata": {},
   "outputs": [],
   "source": [
    "import os\n",
    "\n",
    "from review_feedback_agent.agents.feedback_agent import FeedbackAgent\n",
    "from review_feedback_agent.apis import LLM\n",
    "from review_feedback_agent.utils.utils import *\n",
    "from review_feedback_agent.tests.run_property_tests import *"
   ]
  },
  {
   "cell_type": "code",
   "execution_count": null,
   "id": "09f5ea6b",
   "metadata": {},
   "outputs": [],
   "source": [
    "# You can set the API key as an environment variable. In this example, we use the Anthropic sonnet-3.5 model. \n",
    "# Set the API key in your environment variables using 'ANTHROPIC_API_KEY', or create a .env file with the key.\n",
    "\n",
    "if os.getenv(\"ANTHROPIC_API_KEY\") is None:\n",
    "    raise ValueError(\"Please set the ANTHROPIC_API_KEY environment variable if you'd like to use Anthropic models.\")"
   ]
  },
  {
   "cell_type": "markdown",
   "id": "9ade6de4",
   "metadata": {},
   "source": [
    "### Initialize Review Feedback Agent"
   ]
  },
  {
   "cell_type": "code",
   "execution_count": null,
   "id": "f852efe1",
   "metadata": {},
   "outputs": [],
   "source": [
    "llm_api = LLM(\"sonnet-3.5\")\n",
    "agent = FeedbackAgent(llm_api)"
   ]
  },
  {
   "cell_type": "markdown",
   "id": "de156c3e",
   "metadata": {},
   "source": [
    "### Option 1: Input OpenReview paper ID and reviewer ID"
   ]
  },
  {
   "cell_type": "code",
   "execution_count": null,
   "id": "d7f7d9bf",
   "metadata": {},
   "outputs": [],
   "source": [
    "# Insert your OpenReview paper ID (e.g. xC8xh2RSs2) and reviewer ID (e.g. gNxe) here\n",
    "\n",
    "paper_id = ''\n",
    "reviewer_id = ''\n",
    "\n",
    "# Get review text and paper PDF text\n",
    "\n",
    "review_id = get_review_id(paper_id, reviewer_id)\n",
    "review_text, pdf_text = get_openreview_paper_and_review(review_id, paper_id)"
   ]
  },
  {
   "cell_type": "markdown",
   "id": "4b81f155",
   "metadata": {},
   "source": [
    "### Option 2: Upload a paper PDF and paste in review text"
   ]
  },
  {
   "cell_type": "code",
   "execution_count": null,
   "id": "ca80c40f",
   "metadata": {},
   "outputs": [],
   "source": [
    "review_text = ''\n",
    "path_to_pdf = '' # Note: paper needs to be downloaded locally\n",
    "\n",
    "pdf_text = parse_uploaded_paper(path_to_pdf)"
   ]
  },
  {
   "cell_type": "markdown",
   "id": "8312a506",
   "metadata": {},
   "source": [
    "### Generate feedback for the review"
   ]
  },
  {
   "cell_type": "code",
   "execution_count": null,
   "id": "d9efb2bb",
   "metadata": {},
   "outputs": [],
   "source": [
    "feedback_dict = agent(pdf_text, review_text)\n",
    "formatted_feedback = feedback_dict[\"formatted feedback\"]"
   ]
  },
  {
   "cell_type": "code",
   "execution_count": null,
   "id": "270eb54d",
   "metadata": {},
   "outputs": [],
   "source": [
    "# Display feedback\n",
    "print(formatted_feedback)"
   ]
  },
  {
   "cell_type": "markdown",
   "id": "bb7d9f4c",
   "metadata": {},
   "source": [
    "### Optional: Run the generated feedback through our property tests"
   ]
  },
  {
   "cell_type": "code",
   "execution_count": null,
   "id": "a090d1ce",
   "metadata": {},
   "outputs": [],
   "source": [
    "property_test_bool = run_property_tests(formatted_feedback, review_text)\n",
    "print(f\"Property tests passed: {property_test_bool[0]}\")\n",
    "\n",
    "if not property_test_bool[0]:\n",
    "    print(f\"Failed property test(s): {property_test_bool[1]}\")"
   ]
  }
 ],
 "metadata": {
  "kernelspec": {
   "display_name": "Python 3 (ipykernel)",
   "language": "python",
   "name": "python3"
  },
  "language_info": {
   "codemirror_mode": {
    "name": "ipython",
    "version": 3
   },
   "file_extension": ".py",
   "mimetype": "text/x-python",
   "name": "python",
   "nbconvert_exporter": "python",
   "pygments_lexer": "ipython3",
   "version": "3.11.11"
  }
 },
 "nbformat": 4,
 "nbformat_minor": 5
}
